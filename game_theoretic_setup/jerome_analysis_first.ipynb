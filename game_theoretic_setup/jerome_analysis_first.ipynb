{
 "cells": [
  {
   "cell_type": "markdown",
   "id": "07f5d9d8",
   "metadata": {},
   "source": [
    "# Imports"
   ]
  },
  {
   "cell_type": "code",
   "execution_count": 1,
   "id": "2f8ffec9",
   "metadata": {},
   "outputs": [],
   "source": [
    "import numpy as np\n",
    "import pandas as pd\n",
    "import os\n",
    "import re\n",
    "import matplotlib.pyplot as plt\n",
    "import seaborn as sns\n",
    "import ast"
   ]
  },
  {
   "cell_type": "markdown",
   "id": "6eda237a",
   "metadata": {},
   "source": [
    "# General variables"
   ]
  },
  {
   "cell_type": "markdown",
   "id": "e4b3f962",
   "metadata": {},
   "source": [
    " ## Filenames"
   ]
  },
  {
   "cell_type": "code",
   "execution_count": 2,
   "id": "d883acbe",
   "metadata": {},
   "outputs": [],
   "source": [
    "# Define the pattern of filenames\n",
    "\n",
    "GameTheoretic_filename_pattern_DQN =  re.compile(r\"results_(?P<simulation_index>\\d{3})_(?P<episodes>\\d+)_DQN_\"\n",
    "                                                r\"(?P<emotion>[^_]+)_(?P<see_emotions>[^_]+)_\"\n",
    "                                                r\"(?P<alpha>[\\d.]+)_(?P<beta>[\\d.]+)_(?P<smoothing>[^_]+)_(?P<threshold>[\\d.]+)_(?P<rounder>[\\d.]+)_\"\n",
    "                                                r\"(?P<learning_rate>[\\d.]+)_(?P<gamma>[\\d.]+)_(?P<epsilon>[\\d.]+)_(?P<epsilon_decay>[\\d.]+)_(?P<epsilon_min>[\\d.]+)_\"\n",
    "                                                r\"(?P<batch_size>[\\d.]+)_(?P<hidden_size>[\\d.]+)_(?P<update_target_every>[\\d.]+)_\"\n",
    "                                                r\"(?P<random_suffix>\\d{6})_(?P<suffix>[a-zA-Z]+_[a-zA-Z]+)\\.csv\"\n",
    ")\n",
    "\n",
    "GameTheoretic_filename_pattern_QL = re.compile(r\"results_(?P<simulation_index>\\d{3})_(?P<episodes>\\d+)_QLearning_\"\n",
    "                                              r\"(?P<emotion>[^_]+)_(?P<see_emotions>[^_]+)_\"\n",
    "                                              r\"(?P<alpha>[\\d.]+)_(?P<beta>[\\d.]+)_(?P<smoothing>[^_]+)_(?P<threshold>[\\d.]+)_(?P<rounder>[\\d.]+)_\"\n",
    "                                              r\"(?P<learning_rate>[\\d.]+)_(?P<gamma>[\\d.]+)_(?P<epsilon>[\\d.]+)_(?P<epsilon_decay>[\\d.]+)_(?P<epsilon_min>[\\d.]+)_\"\n",
    "                                              r\"(?P<random_suffix>\\d{6})_(?P<suffix>[a-zA-Z]+_[a-zA-Z]+)\\.csv\"\n",
    ")\n",
    "\n",
    "\n",
    "Maze2D_filename_order_QL = re.compile(\n",
    "    r\"maze2d_results_(?P<simulation_index>\\d{3})_(?P<episodes>\\d+)_QLearning_\"\n",
    "    r\"(?P<emotion>[^_]+)_(?P<see_emotions>[^_]+)_\"\n",
    "    r\"(?P<alpha>[\\d.]+)_(?P<beta>[\\d.]+)_(?P<smoothing>[^_]+)_(?P<threshold>[\\d.]+)_(?P<rounder>[\\d.]+)_\"\n",
    "    r\"(?P<learning_rate>[\\d.]+)_(?P<gamma>[\\d.]+)_(?P<epsilon>[\\d.]+)_(?P<epsilon_decay>[\\d.]+)_(?P<epsilon_min>[\\d.]+)_\"\n",
    "    r\"(?P<random_suffix>\\d{6})_(?P<suffix>[a-zA-Z]+_[a-zA-Z]+)\\.csv\"\n",
    ")\n",
    "\n",
    "Maze2D_filename_order_DQN = re.compile(\n",
    "    r\"maze2d_results_(?P<simulation_index>\\d{3})_(?P<episodes>\\d+)_DQN_\"\n",
    "    r\"(?P<emotion>[^_]+)_(?P<see_emotions>[^_]+)_\"\n",
    "    r\"(?P<alpha>[\\d.]+)_(?P<beta>[\\d.]+)_(?P<smoothing>[^_]+)_(?P<threshold>[\\d.]+)_(?P<rounder>[\\d.]+)_\"\n",
    "    r\"(?P<learning_rate>[\\d.]+)_(?P<gamma>[\\d.]+)_(?P<epsilon>[\\d.]+)_(?P<epsilon_decay>[\\d.]+)_(?P<epsilon_min>[\\d.]+)_\"\n",
    "    r\"(?P<batch_size>[\\d.]+)_(?P<hidden_size>[\\d.]+)_(?P<update_target_every>[\\d.]+)_\"\n",
    "    r\"(?P<random_suffix>\\d{6})_(?P<suffix>[a-zA-Z]+_[a-zA-Z]+)\\.csv\"\n",
    ")\n",
    "\n",
    "FILENAME_PATTERNS = [\n",
    "    GameTheoretic_filename_pattern_DQN,\n",
    "    GameTheoretic_filename_pattern_QL,\n",
    "    Maze2D_filename_order_DQN,\n",
    "    Maze2D_filename_order_QL\n",
    "]\n",
    "\n",
    "FILENAME_PATTERNS_PAIR = [\n",
    "    (\"Gametheoretic\", GameTheoretic_filename_pattern_DQN),\n",
    "    (\"Gametheoretic\", GameTheoretic_filename_pattern_QL),\n",
    "    (\"maze2d\", Maze2D_filename_order_DQN),\n",
    "    (\"maze2d\", Maze2D_filename_order_QL)\n",
    "]"
   ]
  },
  {
   "cell_type": "markdown",
   "id": "810fa323",
   "metadata": {},
   "source": [
    "# Functions"
   ]
  },
  {
   "cell_type": "markdown",
   "id": "23d4083a",
   "metadata": {},
   "source": [
    "## CSV processing"
   ]
  },
  {
   "cell_type": "markdown",
   "id": "09ad5067",
   "metadata": {},
   "source": [
    "### Parameter recovery from filenames"
   ]
  },
  {
   "cell_type": "code",
   "execution_count": 3,
   "id": "2748031c",
   "metadata": {},
   "outputs": [],
   "source": [
    "def parse_results_filenames(folder_path: str, filename_patterns=None) -> pd.DataFrame:\n",
    "    \"\"\"\n",
    "    Scans a folder for result filenames and extracts simulation parameters into a DataFrame.\n",
    "\n",
    "    Args:\n",
    "        folder_path (str): Path to the folder containing result CSV files.\n",
    "        filename_patterns (list): List of compiled regex patterns to match filenames.\n",
    "                                  If None, use global FILENAME_PATTERNS.\n",
    "\n",
    "    Returns:\n",
    "        pd.DataFrame: DataFrame containing parsed parameters from filenames.\n",
    "    \"\"\"\n",
    "    if filename_patterns is None:\n",
    "        filename_patterns = FILENAME_PATTERNS\n",
    "\n",
    "    data = []\n",
    "\n",
    "    for filename in os.listdir(folder_path):\n",
    "        if not filename.endswith(\".csv\"):\n",
    "            continue\n",
    "\n",
    "        matched = False\n",
    "        for pattern in filename_patterns:\n",
    "            match = pattern.match(filename)\n",
    "            if match:\n",
    "                file_data = match.groupdict()\n",
    "                file_data[\"filename\"] = filename\n",
    "                data.append(file_data)\n",
    "                matched = True\n",
    "                break  # Stop at the first match\n",
    "        \n",
    "        if not matched:\n",
    "            print(f\"Warning: filename did not match any pattern: {filename}\")\n",
    "\n",
    "    if not data:\n",
    "        print(\"No matching filenames found.\")\n",
    "        return pd.DataFrame()\n",
    "\n",
    "    df = pd.DataFrame(data)\n",
    "\n",
    "    # Optional: convert numeric fields from str to float/int\n",
    "    for col in df.columns:\n",
    "        if col not in {\"filename\", \"emotion\", \"see_emotions\", \"suffix\"}:\n",
    "            try:\n",
    "                df[col] = pd.to_numeric(df[col])\n",
    "            except Exception:\n",
    "                pass  # leave as string if conversion fails\n",
    "\n",
    "    return df"
   ]
  },
  {
   "cell_type": "code",
   "execution_count": 4,
   "id": "d5b8ae12",
   "metadata": {},
   "outputs": [],
   "source": [
    "def print_unique_parameter_values(df: pd.DataFrame, exclude: list = None):\n",
    "    \"\"\"\n",
    "    Print a table with parameter names and their unique values.\n",
    "\n",
    "    Args:\n",
    "        df (pd.DataFrame): The input DataFrame with simulation parameters.\n",
    "        exclude (list): Optional list of column names to exclude (e.g., ['filename', 'simulation_index']).\n",
    "    \"\"\"\n",
    "    if exclude is None:\n",
    "        exclude = ['filename', 'simulation_index']\n",
    "\n",
    "    param_cols = [col for col in df.columns if col not in exclude]\n",
    "\n",
    "    summary = {\n",
    "        \"parameter\": [],\n",
    "        \"unique_values\": []\n",
    "    }\n",
    "\n",
    "    for col in param_cols:\n",
    "        summary[\"parameter\"].append(col)\n",
    "        summary[\"unique_values\"].append(sorted(df[col].dropna().unique().tolist()))\n",
    "\n",
    "    summary_df = pd.DataFrame(summary)\n",
    "    print(summary_df)\n"
   ]
  },
  {
   "cell_type": "code",
   "execution_count": 5,
   "id": "bdc1ad5a",
   "metadata": {},
   "outputs": [],
   "source": [
    "import pandas as pd\n",
    "\n",
    "def compute_alpha_from_df(df: pd.DataFrame, nb_agents: int, verbose: bool = False) -> float:\n",
    "    \"\"\"\n",
    "    Estimate alpha from a DataFrame containing total personal, empathic, and combined rewards\n",
    "    for multiple agents. Alpha is estimated as:\n",
    "        alpha = (combined - personal) / (empathic - personal)\n",
    "    \n",
    "    Args:\n",
    "        df (pd.DataFrame): Input DataFrame containing the reward columns.\n",
    "        nb_agents (int): Number of agents.\n",
    "        verbose (bool): If True, print alpha stats per agent.\n",
    "    \n",
    "    Returns:\n",
    "        float: Estimated average alpha.\n",
    "    \"\"\"\n",
    "    alphas = []\n",
    "    \n",
    "    for agent_idx in range(nb_agents):\n",
    "        personal_col = f\"total_personal_reward_{agent_idx}\"\n",
    "        empathic_col = f\"total_empathic_reward_{agent_idx}\"\n",
    "        combined_col = f\"total_combined_reward_{agent_idx}\"\n",
    "        \n",
    "        # Validate presence of required columns\n",
    "        for col in [personal_col, empathic_col, combined_col]:\n",
    "            if col not in df.columns:\n",
    "                raise KeyError(f\"Missing column: {col}\")\n",
    "        \n",
    "        personal = df[personal_col].astype(float)\n",
    "        empathic = df[empathic_col].astype(float)\n",
    "        combined = df[combined_col].astype(float)\n",
    "        \n",
    "        denominator = empathic - personal\n",
    "        valid_mask = denominator != 0\n",
    "        \n",
    "        if valid_mask.sum() == 0:\n",
    "            print(f\"⚠️ No valid rows for agent {agent_idx} (division by zero in alpha computation)\")\n",
    "            continue\n",
    "        \n",
    "        alpha_agent = (combined[valid_mask] - personal[valid_mask]) / denominator[valid_mask]\n",
    "        alpha_agent = alpha_agent[(alpha_agent >= 0) & (alpha_agent <= 1)]  # optional filtering\n",
    "        alphas.append(alpha_agent)\n",
    "        \n",
    "        if verbose:\n",
    "            print(f\"[Agent {agent_idx}] alpha mean: {alpha_agent.mean():.4f}, samples: {len(alpha_agent)}\")\n",
    "    \n",
    "    if not alphas:\n",
    "        raise ValueError(\"No valid alpha values could be computed.\")\n",
    "    \n",
    "    all_alphas = pd.concat(alphas)\n",
    "    mean_alpha = all_alphas.mean()\n",
    "    print(f\"\\n✅ Estimated average alpha from CSV data: {mean_alpha:.4f}\")\n",
    "    \n",
    "    return mean_alpha"
   ]
  },
  {
   "cell_type": "markdown",
   "id": "94dd5844",
   "metadata": {},
   "source": [
    "### Aggregation of csv"
   ]
  },
  {
   "cell_type": "code",
   "execution_count": 6,
   "id": "ffa3efd9",
   "metadata": {},
   "outputs": [],
   "source": [
    "def aggregate_results_by_suffix(folder_path: str, target_suffix: str, environment_type: str = None) -> pd.DataFrame:\n",
    "    '''\n",
    "    arg: \n",
    "        folder_path : way to access the folder containing the csv\n",
    "        target_suffix : ending name of the csv => \"episode_summary\" or \"step_data\"\n",
    "        environment_type : \"gametheoretic\" or \"maze2d\"\n",
    "\n",
    "    return: \n",
    "        agregated dataframe\n",
    "    '''\n",
    "    all_data = []\n",
    "\n",
    "    for filename in os.listdir(folder_path):\n",
    "        if not filename.endswith(\".csv\"):\n",
    "            continue\n",
    "\n",
    "        for source_type, pattern in FILENAME_PATTERNS_PAIR:\n",
    "            if environment_type and source_type.lower() != environment_type.lower():\n",
    "                continue\n",
    "\n",
    "            match = pattern.match(filename)\n",
    "            if match:\n",
    "                metadata = match.groupdict()\n",
    "                if metadata.get(\"suffix\", \"\").strip() == target_suffix.strip():\n",
    "                    file_path = os.path.join(folder_path, filename)\n",
    "                    try:\n",
    "                        df = pd.read_csv(file_path)\n",
    "                        for key, value in metadata.items():\n",
    "                            df[key] = value\n",
    "                        df[\"source\"] = source_type.lower()  # normalize\n",
    "                        all_data.append(df)\n",
    "                    except Exception as e:\n",
    "                        print(f\"Error reading {filename}: {e}\")\n",
    "                break\n",
    "\n",
    "    if not all_data:\n",
    "        print(f\"No matching files found for suffix '{target_suffix}' and source '{environment_type}'.\")\n",
    "        return pd.DataFrame()\n",
    "\n",
    "    final_df = pd.concat(all_data, ignore_index=True)\n",
    "\n",
    "    for col in final_df.columns:\n",
    "        if col not in {\"emotion\", \"see_emotions\", \"suffix\", \"filename\", \"source\"}:\n",
    "            try:\n",
    "                final_df[col] = pd.to_numeric(final_df[col])\n",
    "            except:\n",
    "                pass\n",
    "\n",
    "    filtered_tag = f\"_{environment_type.lower()}\" if environment_type else \"\"\n",
    "    output_filename = f\"aggregated_{target_suffix}{filtered_tag}.csv\"\n",
    "    output_path = os.path.join(folder_path, output_filename)\n",
    "    final_df.to_csv(output_path, index=False)\n",
    "    print(f\"Saved aggregated data to: {output_path}\")\n",
    "\n",
    "    return final_df\n"
   ]
  },
  {
   "cell_type": "markdown",
   "id": "f16bd09d",
   "metadata": {},
   "source": [
    "## Data analysis"
   ]
  },
  {
   "cell_type": "markdown",
   "id": "541b159a",
   "metadata": {},
   "source": [
    " ### Learning verification"
   ]
  },
  {
   "cell_type": "code",
   "execution_count": 7,
   "id": "89ec1a9c",
   "metadata": {},
   "outputs": [],
   "source": [
    "def windowed_avg_combined_reward(\n",
    "    df: pd.DataFrame,\n",
    "    reward_prefix: str = \"total_combined_reward_\",\n",
    "    episode_column: str = \"episode\",\n",
    "    simulation_id_column: str = \"simulation_index\",\n",
    "    window_size: int = 5,\n",
    "    aggregation_mode: str = \"mean\",  # or \"best\"\n",
    "    plot: bool = False\n",
    ") -> pd.DataFrame:\n",
    "    \"\"\"\n",
    "    Computes a windowed moving average of combined rewards per episode across simulations.\n",
    "\n",
    "    Args:\n",
    "        df (pd.DataFrame): Input dataframe.\n",
    "        reward_prefix (str): Prefix of reward columns per agent.\n",
    "        episode_column (str): Column name for episodes.\n",
    "        simulation_id_column (str): Column indicating different simulations.\n",
    "        window_size (int): Window size for moving average.\n",
    "        aggregation_mode (str): 'mean' for average across agents, 'best' for max reward among agents.\n",
    "        plot (bool): Whether to plot the result.\n",
    "\n",
    "    Returns:\n",
    "        pd.DataFrame: DataFrame with ['episode', 'mean_reward', 'moving_avg'].\n",
    "    \"\"\"\n",
    "    # Find all columns with the reward prefix\n",
    "    reward_cols = [col for col in df.columns if col.startswith(reward_prefix)]\n",
    "    if not reward_cols:\n",
    "        raise ValueError(f\"No columns found with prefix '{reward_prefix}'\")\n",
    "\n",
    "    # Aggregate rewards per row (across agents)\n",
    "    if aggregation_mode == \"mean\":\n",
    "        df[\"aggregated_reward\"] = df[reward_cols].mean(axis=1)\n",
    "    elif aggregation_mode == \"best\":\n",
    "        df[\"aggregated_reward\"] = df[reward_cols].max(axis=1)\n",
    "    else:\n",
    "        raise ValueError(\"aggregation_mode must be 'mean' or 'best'\")\n",
    "\n",
    "    # Group by episode and average across rows(simulations) \n",
    "    episode_avg = (\n",
    "        df.groupby(episode_column)[\"aggregated_reward\"]\n",
    "        .mean()\n",
    "        .reset_index()\n",
    "        .rename(columns={\"aggregated_reward\": \"mean_reward\"})\n",
    "    )\n",
    "\n",
    "    # Apply centered moving average smoothing\n",
    "    episode_avg[\"moving_avg\"] = (\n",
    "        episode_avg[\"mean_reward\"].rolling(window=window_size, min_periods=1, center=True).mean()\n",
    "    )\n",
    "\n",
    "    # Optional plotting\n",
    "    if plot:\n",
    "        import matplotlib.pyplot as plt  # safer to import here if not already\n",
    "        plt.figure(figsize=(10, 5))\n",
    "        plt.plot(episode_avg[episode_column], episode_avg[\"moving_avg\"], label=f\"Moving Avg ({aggregation_mode})\")\n",
    "        plt.xlabel(\"Episode\")\n",
    "        plt.ylabel(\"Reward\")\n",
    "        plt.title(f\"{aggregation_mode.capitalize()} Agent Reward (Window={window_size})\")\n",
    "        plt.grid(True)\n",
    "        plt.legend()\n",
    "        plt.tight_layout()\n",
    "        plt.show()\n",
    "\n",
    "    return episode_avg\n"
   ]
  },
  {
   "cell_type": "markdown",
   "id": "f96180ba",
   "metadata": {},
   "source": [
    "### Variable_calculation"
   ]
  },
  {
   "cell_type": "markdown",
   "id": "d3db0720",
   "metadata": {},
   "source": [
    "#### Gini coefficient"
   ]
  },
  {
   "cell_type": "code",
   "execution_count": 8,
   "id": "da6bcc88",
   "metadata": {},
   "outputs": [],
   "source": [
    "def gini_coefficient(arr: np.ndarray) -> float:\n",
    "    \"\"\"Compute Gini coefficient of a 1D numpy array.\"\"\"\n",
    "    arr = arr.flatten()\n",
    "    if np.amin(arr) < 0:\n",
    "        arr = arr - np.amin(arr)  # Shift if negative values present\n",
    "    mean = np.mean(arr)\n",
    "    if mean == 0:\n",
    "        return 0.0\n",
    "    n = len(arr)\n",
    "    diff_sum = np.sum(np.abs(np.subtract.outer(arr, arr)))\n",
    "    gini = diff_sum / (2 * n**2 * mean)\n",
    "    return gini\n",
    "\n",
    "def parse_value(val):\n",
    "    # If value is a string that looks like a list, parse it\n",
    "    if isinstance(val, str):\n",
    "        try:\n",
    "            parsed = ast.literal_eval(val)\n",
    "            if isinstance(parsed, (list, tuple, np.ndarray)):\n",
    "                return np.array(parsed, dtype=float)\n",
    "            else:\n",
    "                return float(parsed)\n",
    "        except (ValueError, SyntaxError):\n",
    "            # Not a list or can't parse, try converting directly\n",
    "            return float(val)\n",
    "    # If already numeric or array, convert accordingly\n",
    "    elif isinstance(val, (list, tuple, np.ndarray)):\n",
    "        return np.array(val, dtype=float)\n",
    "    else:\n",
    "        return float(val)\n",
    "\n",
    "def compute_gini_for_df(df: pd.DataFrame, prefix: str) -> pd.Series:\n",
    "    \"\"\"\n",
    "    Compute Gini coefficient across columns starting with prefix for each row in df.\n",
    "    \n",
    "    Args:\n",
    "        df: pandas DataFrame.\n",
    "        prefix: string prefix for target columns.\n",
    "        \n",
    "    Returns:\n",
    "        pandas Series with Gini coefficients per row.\n",
    "    \"\"\"\n",
    "    cols = [col for col in df.columns if col.startswith(prefix)]\n",
    "    if not cols:\n",
    "        raise ValueError(f\"No columns found starting with prefix '{prefix}'\")\n",
    "\n",
    "    def row_gini(row):\n",
    "        values = []\n",
    "        for val in row.values:\n",
    "            parsed_val = parse_value(val)\n",
    "            # If parsed_val is an array, flatten it, else just append\n",
    "            if isinstance(parsed_val, np.ndarray):\n",
    "                values.extend(parsed_val.flatten())\n",
    "            else:\n",
    "                values.append(parsed_val)\n",
    "        values = np.array(values, dtype=float)\n",
    "        return gini_coefficient(values)\n",
    "\n",
    "    gini_series = df[cols].apply(row_gini, axis=1)\n",
    "    return gini_series\n"
   ]
  },
  {
   "cell_type": "markdown",
   "id": "90a73761",
   "metadata": {},
   "source": [
    "#### Efficiency"
   ]
  },
  {
   "cell_type": "code",
   "execution_count": 9,
   "id": "d9c00a98",
   "metadata": {},
   "outputs": [],
   "source": [
    "import ast\n",
    "\n",
    "def compute_efficiency_for_df(df: pd.DataFrame, prefix: str, new_column_name: str) -> pd.DataFrame:\n",
    "    \"\"\"\n",
    "    Compute the average across columns starting with a given prefix for each row in df.\n",
    "    Handles string representations of single-element lists like '[-1.]'.\n",
    "\n",
    "    Args:\n",
    "        df (pd.DataFrame): Input DataFrame.\n",
    "        prefix (str): Prefix for selecting target columns.\n",
    "        new_column_name (str): Name of the new column to store the computed average.\n",
    "\n",
    "    Returns:\n",
    "        pd.DataFrame: DataFrame with the new column added.\n",
    "    \"\"\"\n",
    "    cols = [col for col in df.columns if col.startswith(prefix)]\n",
    "    if not cols:\n",
    "        raise ValueError(f\"No columns found starting with prefix '{prefix}'\")\n",
    "\n",
    "    for col in cols:\n",
    "        # Clean column: parse strings like '[-1.]' into float -1.0\n",
    "        def parse_cell(val):\n",
    "            if isinstance(val, (float, int)):\n",
    "                return float(val)\n",
    "            if isinstance(val, str):\n",
    "                try:\n",
    "                    parsed = ast.literal_eval(val)\n",
    "                    if isinstance(parsed, list) and len(parsed) == 1:\n",
    "                        return float(parsed[0])\n",
    "                    return float(parsed)  # just in case it's not a list\n",
    "                except Exception:\n",
    "                    raise ValueError(f\"Value '{val}' in column '{col}' could not be parsed to float.\")\n",
    "            raise ValueError(f\"Unsupported value type {type(val)} in column '{col}'.\")\n",
    "\n",
    "        df[col] = df[col].apply(parse_cell)\n",
    "\n",
    "    df[new_column_name] = df[cols].mean(axis=1)\n",
    "    return df\n"
   ]
  },
  {
   "cell_type": "markdown",
   "id": "a5b7ad29",
   "metadata": {},
   "source": [
    "#### Ressource depletion"
   ]
  },
  {
   "cell_type": "code",
   "execution_count": 10,
   "id": "7eae9678",
   "metadata": {},
   "outputs": [],
   "source": [
    "def _clean_initial_resources_column(df: pd.DataFrame, col_name: str) -> None: # Added because sometimes they were str rather than int\n",
    "    \"\"\"Convert list-like string in initial_resources column to numeric.\"\"\"\n",
    "    def extract_number(x):\n",
    "        if pd.isna(x):\n",
    "            return np.nan\n",
    "        try:\n",
    "            parsed = ast.literal_eval(x)\n",
    "            if isinstance(parsed, (list, tuple)) and len(parsed) > 0:\n",
    "                return float(parsed[0])\n",
    "            else:\n",
    "                return np.nan\n",
    "        except:\n",
    "            return np.nan\n",
    "\n",
    "    if col_name in df.columns and df[col_name].dtype == object:\n",
    "        df[col_name] = df[col_name].apply(extract_number)\n",
    "        df[col_name] = pd.to_numeric(df[col_name], errors='coerce')\n",
    "\n",
    "def GT_compute_and_merge_depletion_from_step(df: pd.DataFrame) -> None:\n",
    "    _clean_initial_resources_column(df, 'initial_resources')\n",
    "\n",
    "    group_cols = ['simulation_index', 'episode']\n",
    "    grouped = df.groupby(group_cols)\n",
    "\n",
    "    depletion_metrics = grouped.agg(\n",
    "        final_resource=('resource_remaining', 'last'),\n",
    "        avg_resource=('resource_remaining', 'mean'),\n",
    "        initial_resource=('initial_resources', 'first')\n",
    "    ).reset_index()\n",
    "\n",
    "    depletion_metrics['depletion_final'] = 1 - depletion_metrics['final_resource'] / depletion_metrics['initial_resource']\n",
    "    depletion_metrics['depletion_cumulative'] = 1 - depletion_metrics['avg_resource'] / depletion_metrics['initial_resource']\n",
    "\n",
    "    merged = df.merge(\n",
    "        depletion_metrics[group_cols + ['depletion_final', 'depletion_cumulative']],\n",
    "        on=group_cols, how='left'\n",
    "    )\n",
    "\n",
    "    df.loc[:, 'depletion_final'] = merged['depletion_final']\n",
    "    df.loc[:, 'depletion_cumulative'] = merged['depletion_cumulative']\n",
    "\n",
    "\n",
    "def GT_compute_depletion_from_summary(df: pd.DataFrame) -> None:\n",
    "    # Clean initial_resources column if needed\n",
    "    _clean_initial_resources_column(df, 'initial_resources')\n",
    "\n",
    "    df.loc[:, 'depletion_final'] = 1 - df['resource_remaining'] / df['initial_resources']\n",
    "    df.loc[:, 'depletion_early'] = 1 - df['total_steps'] / df['max_steps']\n"
   ]
  },
  {
   "cell_type": "markdown",
   "id": "453e56d8",
   "metadata": {},
   "source": [
    "### Data visualization"
   ]
  },
  {
   "cell_type": "code",
   "execution_count": 11,
   "id": "0277a024",
   "metadata": {},
   "outputs": [],
   "source": [
    "def plot_mean_and_range_across_simulations(\n",
    "    df: pd.DataFrame,\n",
    "    value_col: str,               \n",
    "    simulation_col: str = 'seed',\n",
    "    episode_col: str = 'episode',\n",
    "    step_col: str = 'step',\n",
    "    is_step_csv: bool = False,\n",
    "    title: str = None,\n",
    "    ylabel: str = None,\n",
    "    rolling_window: int = None,\n",
    "    plot_individual: bool = False  \n",
    "):\n",
    "    if is_step_csv:\n",
    "        group_cols = [simulation_col, episode_col, step_col]\n",
    "        avg_group_cols = [episode_col, step_col]\n",
    "    else:\n",
    "        group_cols = [simulation_col, episode_col]\n",
    "        avg_group_cols = [episode_col]\n",
    "\n",
    "    sim_stats = df.groupby(group_cols)[value_col].mean().reset_index()\n",
    "\n",
    "    agg_funcs = {value_col: ['mean', 'min', 'max']}\n",
    "    summary = sim_stats.groupby(avg_group_cols).agg(agg_funcs)\n",
    "    summary.columns = ['mean', 'min', 'max']\n",
    "    summary = summary.reset_index()\n",
    "\n",
    "    if rolling_window and rolling_window > 1:\n",
    "        summary['mean'] = summary['mean'].rolling(rolling_window, min_periods=1, center=True).mean()\n",
    "        summary['min'] = summary['min'].rolling(rolling_window, min_periods=1, center=True).mean()\n",
    "        summary['max'] = summary['max'].rolling(rolling_window, min_periods=1, center=True).mean()\n",
    "\n",
    "    plt.figure(figsize=(10, 6))\n",
    "\n",
    "    if plot_individual:\n",
    "        for sim_id, sim_df in sim_stats.groupby(simulation_col):\n",
    "            x = sim_df[episode_col] if not is_step_csv else sim_df[step_col]\n",
    "            y = sim_df[value_col]\n",
    "            if rolling_window:\n",
    "                y = y.rolling(rolling_window, min_periods=1).mean()\n",
    "            plt.plot(x, y, color='gray', alpha=0.3, label=f\"Sim {sim_id}\")\n",
    "\n",
    "    x_vals = summary[episode_col] if not is_step_csv else summary[step_col]\n",
    "\n",
    "    plt.fill_between(\n",
    "        x_vals,\n",
    "        summary['min'],\n",
    "        summary['max'],\n",
    "        color='blue',\n",
    "        alpha=0.2,\n",
    "        label='Étendue (min-max)'\n",
    "    )\n",
    "\n",
    "    plt.plot(x_vals, summary['mean'], color='blue', linewidth=2, label='Moyenne')\n",
    "\n",
    "    plt.xlabel('Episode' if not is_step_csv else 'Step')\n",
    "    plt.ylabel(ylabel if ylabel else value_col)\n",
    "    plt.title(title or f\"Fluctuation moyenne de {value_col} avec étendue\")\n",
    "    plt.legend()\n",
    "    plt.grid(True)\n",
    "    plt.tight_layout()\n",
    "    plt.show()\n"
   ]
  },
  {
   "cell_type": "code",
   "execution_count": 12,
   "id": "86be37a5",
   "metadata": {},
   "outputs": [],
   "source": [
    "def plot_avg_steps_to_depletion(\n",
    "    df: pd.DataFrame,\n",
    "    steps_col: str = 'steps_to_depletion',  # column with steps to depletion\n",
    "    episode_col: str = 'episode',\n",
    "    rolling_window: int = 5,\n",
    "    title: str = \"Fluctuation of Average Steps to Environment Depletion\",\n",
    "    ylabel: str = \"Average Steps to Depletion\",\n",
    "    figsize: tuple = (10, 6)\n",
    "):\n",
    "    \"\"\"\n",
    "    Plot the fluctuation of average steps to depletion over episodes.\n",
    "    \n",
    "    Args:\n",
    "        df: DataFrame containing steps to depletion data.\n",
    "        steps_col: Column with steps until depletion.\n",
    "        episode_col: Episode column.\n",
    "        rolling_window: Window size for smoothing.\n",
    "        title: Plot title.\n",
    "        ylabel: Y-axis label.\n",
    "        figsize: Figure size.\n",
    "    \"\"\"\n",
    "    summary = df.groupby(episode_col)[steps_col].mean().reset_index()\n",
    "\n",
    "    # Apply rolling smoothing if requested\n",
    "    if rolling_window > 1:\n",
    "        summary['steps_smoothed'] = summary[steps_col].rolling(\n",
    "            rolling_window, min_periods=1, center=True).mean()\n",
    "    else:\n",
    "        summary['steps_smoothed'] = summary[steps_col]\n",
    "\n",
    "    plt.figure(figsize=figsize)\n",
    "    plt.plot(\n",
    "        summary[episode_col], \n",
    "        summary['steps_smoothed'], \n",
    "        marker='o', linestyle='-', color='tab:green', label='Smoothed avg steps'\n",
    "    )\n",
    "    plt.scatter(\n",
    "        summary[episode_col], \n",
    "        summary[steps_col], \n",
    "        color='tab:gray', alpha=0.6, label='Raw avg steps'\n",
    "    )\n",
    "    plt.xlabel(\"Episode\")\n",
    "    plt.ylabel(ylabel)\n",
    "    plt.title(title)\n",
    "    plt.grid(True)\n",
    "    plt.legend()\n",
    "    plt.tight_layout()\n",
    "    plt.show()\n"
   ]
  },
  {
   "cell_type": "markdown",
   "id": "bc0dc967",
   "metadata": {},
   "source": [
    "# Analysis of data"
   ]
  },
  {
   "cell_type": "code",
   "execution_count": 13,
   "id": "59966418",
   "metadata": {},
   "outputs": [
    {
     "name": "stdout",
     "output_type": "stream",
     "text": [
      "emotion see_emotions  alpha  beta smoothing  threshold  learning_rate  gamma  epsilon  epsilon_decay  epsilon_min  batch_size  hidden_size  update_target_every\n",
      "average         True    0.5   0.5    linear        0.5          0.001   0.99      1.0          0.995         0.01          16           64                    5\n"
     ]
    }
   ],
   "source": [
    "# --- 1. Gather metadata from filenames ---\n",
    "folder_path = \"results_GT_ISMAEL_1\"  # Folder containing the CSV results\n",
    "if not os.path.exists(folder_path):\n",
    "    print(\"the folder does not exist :\", folder_path)\n",
    "parameter_dataframe = parse_results_filenames(folder_path=folder_path)\n",
    "\n",
    "desired_params = [\n",
    "    \"emotion\", \"see_emotions\", \"alpha\", \"beta\", \"smoothing\", \"threshold\",\n",
    "    \"learning_rate\", \"gamma\", \"epsilon\", \"epsilon_decay\", \"epsilon_min\",\n",
    "    \"batch_size\", \"hidden_size\", \"update_target_every\"\n",
    "]\n",
    "\n",
    "param_cols = [col for col in parameter_dataframe.columns if col in desired_params]\n",
    "unique_values_per_param = {col: sorted(parameter_dataframe[col].unique()) for col in param_cols}\n",
    "\n",
    "# Convert to DataFrame with param names as columns and unique set of values as rows\n",
    "max_len = max(len(v) for v in unique_values_per_param.values())\n",
    "for k in unique_values_per_param:\n",
    "    unique_values_per_param[k] += [None] * (max_len - len(unique_values_per_param[k]))\n",
    "\n",
    "# Display of the unique sets of parameter values\n",
    "summary_df = pd.DataFrame(unique_values_per_param)\n",
    "print(summary_df.to_string(index=False))"
   ]
  },
  {
   "cell_type": "code",
   "execution_count": 14,
   "id": "24ed8d7e",
   "metadata": {},
   "outputs": [
    {
     "name": "stdout",
     "output_type": "stream",
     "text": [
      "No matching files found for suffix 'episode_summary' and source 'maze2d'.\n",
      "No matching files found for suffix 'step_data' and source 'maze2d'.\n",
      "Saved aggregated data to: results_GT_ISMAEL_1\\aggregated_episode_summary_gametheoretic.csv\n",
      "Saved aggregated data to: results_GT_ISMAEL_1\\aggregated_step_data_gametheoretic.csv\n"
     ]
    }
   ],
   "source": [
    "# --- Aggregate data for Maze2D --- # add parameter to make the csv_maker not necessary\n",
    "df_maze_summary = aggregate_results_by_suffix(\n",
    "    folder_path=folder_path,\n",
    "    target_suffix=\"episode_summary\", # suffix is the ending name of the csv : \"episode_summary\" OR \"step_data\"\n",
    "    environment_type=\"maze2d\" # name of the environment tested : \"maze2d\" OR \"GameTheoretic\"\n",
    ")\n",
    "\n",
    "df_maze_step = aggregate_results_by_suffix(\n",
    "    folder_path=folder_path,\n",
    "    target_suffix=\"step_data\",\n",
    "    environment_type=\"maze2d\"\n",
    ")\n",
    "\n",
    "# --- Aggregate data for GameTheoretic environment only ---\n",
    "df_gt_summary = aggregate_results_by_suffix(\n",
    "    folder_path=folder_path,\n",
    "    target_suffix=\"episode_summary\",\n",
    "    environment_type=\"Gametheoretic\"\n",
    ")\n",
    "\n",
    "df_gt_step = aggregate_results_by_suffix(\n",
    "    folder_path=folder_path,\n",
    "    target_suffix=\"step_data\",\n",
    "    environment_type=\"Gametheoretic\"\n",
    ")"
   ]
  },
  {
   "cell_type": "code",
   "execution_count": 15,
   "id": "3ca8d920",
   "metadata": {},
   "outputs": [
    {
     "name": "stdout",
     "output_type": "stream",
     "text": [
      "[Agent 0] alpha mean: 0.5000, samples: 51\n",
      "[Agent 1] alpha mean: 0.5000, samples: 51\n",
      "[Agent 2] alpha mean: 0.5000, samples: 51\n",
      "[Agent 3] alpha mean: 0.5000, samples: 51\n",
      "[Agent 4] alpha mean: 0.5000, samples: 51\n",
      "[Agent 5] alpha mean: 0.5000, samples: 51\n",
      "\n",
      "✅ Estimated average alpha from CSV data: 0.5000\n"
     ]
    }
   ],
   "source": [
    "alpha_estimate = compute_alpha_from_df(df_gt_summary, nb_agents=6, verbose=True)"
   ]
  },
  {
   "cell_type": "markdown",
   "id": "32aea3e3",
   "metadata": {},
   "source": [
    "## Calculation of Dependent Variables"
   ]
  },
  {
   "cell_type": "code",
   "execution_count": 16,
   "id": "98825e60",
   "metadata": {},
   "outputs": [
    {
     "name": "stdout",
     "output_type": "stream",
     "text": [
      "[]\n",
      "Could not compute Gini for df_maze_summary: No columns found starting with prefix 'total_personal_reward_'\n",
      "[]\n",
      "Could not compute Gini for df_maze_step: No columns found starting with prefix 'personal_reward_'\n",
      "succesfull for GameTheoretic summary\n",
      "succesfull for GameTheoretic step\n"
     ]
    }
   ],
   "source": [
    "# sets the name of the columns to compute the gini coefficient and utility over\n",
    "personal_column_gt_step_prefix = \"personal_reward_\"\n",
    "personal_column_gt_summary_prefix = \"total_personal_reward_\"\n",
    "personal_column_maze_step_prefix = \"personal_reward_\"\n",
    "personal_column_maze_summary_prefix = \"total_personal_reward_\"\n",
    "\n",
    "\n",
    "try:\n",
    "    print([col for col in df_maze_summary.columns if col.startswith(personal_column_maze_step_prefix)])\n",
    "    df_maze_summary[\"gini_personal_reward\"] = compute_gini_for_df(df_maze_summary, prefix=\"total_personal_reward_\")\n",
    "    print('succesfull for 2D summary')\n",
    "except Exception as e:\n",
    "    print(f\"Could not compute Gini for df_maze_summary: {e}\")\n",
    "\n",
    "try:\n",
    "    print([col for col in df_maze_step.columns if col.startswith(personal_column_maze_step_prefix)])\n",
    "    df_maze_step[\"gini_personal_reward\"] = compute_gini_for_df(df_maze_step, prefix=personal_column_gt_step_prefix)\n",
    "    print('succesfull for 2D step')\n",
    "except Exception as e:\n",
    "    print(f\"Could not compute Gini for df_maze_step: {e}\")\n",
    "\n",
    "try:\n",
    "    df_gt_summary[\"gini_personal_reward\"] = compute_gini_for_df(df_gt_summary, prefix=personal_column_gt_summary_prefix)\n",
    "    print('succesfull for GameTheoretic summary')\n",
    "except Exception as e:\n",
    "    print(f\"Could not compute Gini for df_gt_summary: {e}\")\n",
    "\n",
    "try:\n",
    "    df_gt_step[\"gini_personal_reward\"] = compute_gini_for_df(df_gt_step, prefix=personal_column_gt_step_prefix)\n",
    "    print('succesfull for GameTheoretic step')\n",
    "except Exception as e:\n",
    "    print(f\"Could not compute Gini for df_gt_step: {e}\")\n"
   ]
  },
  {
   "cell_type": "code",
   "execution_count": 17,
   "id": "2e70a3c3",
   "metadata": {},
   "outputs": [
    {
     "name": "stdout",
     "output_type": "stream",
     "text": [
      "Successfully computed resource depletion from df_gt_step.\n",
      "Successfully computed resource depletion from df_gt_summary.\n",
      "Could not compute resource depletion from df_maze_step: 'simulation_index'\n",
      "Could not compute resource depletion from df_maze_summary: 'resource_remaining'\n"
     ]
    }
   ],
   "source": [
    "try:\n",
    "    GT_compute_and_merge_depletion_from_step(df_gt_step)  # creates \"depletion_final\" and \"depletion_cumulative\"\n",
    "    print(\"Successfully computed resource depletion from df_gt_step.\")\n",
    "except Exception as e:\n",
    "    print(f\"Could not compute resource depletion from df_gt_step: {e}\")\n",
    "\n",
    "try:\n",
    "    GT_compute_depletion_from_summary(df_gt_summary)  # creates \"depletion_cumulative\" and \"depletion_early\"\n",
    "    print(\"Successfully computed resource depletion from df_gt_summary.\")\n",
    "except Exception as e:\n",
    "    print(f\"Could not compute resource depletion from df_gt_summary: {e}\")\n",
    "\n",
    "# Will maybe need another formula for the 2D ?\n",
    "\n",
    "try:\n",
    "    GT_compute_and_merge_depletion_from_step(df_maze_step) \n",
    "    print(\"Successfully computed resource depletion from df_maze_step.\")\n",
    "except Exception as e:\n",
    "    print(f\"Could not compute resource depletion from df_maze_step: {e}\")\n",
    "\n",
    "try:\n",
    "    GT_compute_depletion_from_summary(df_maze_summary)\n",
    "    print(\"Successfully computed resource depletion from df_maze_summary.\")\n",
    "except Exception as e:\n",
    "    print(f\"Could not compute resource depletion from df_maze_summary: {e}\")"
   ]
  },
  {
   "cell_type": "code",
   "execution_count": 18,
   "id": "96d88da0",
   "metadata": {},
   "outputs": [
    {
     "name": "stdout",
     "output_type": "stream",
     "text": [
      "Successfully computed efficiency of agents from df_gt_step.\n",
      "Successfully computed efficiency of agents from df_gt_summary.\n",
      "Could not compute efficiency of agents from df_maze_step: No columns found starting with prefix 'personal_reward_'\n",
      "Could not compute efficiency of agents from df_maze_summary: No columns found starting with prefix 'total_personal_reward_'\n"
     ]
    }
   ],
   "source": [
    "# Compute the Efficiency of agents: set to the personal reward (dependent on resource consumption and not the social reward)\n",
    "prefix_step = personal_column_gt_step_prefix\n",
    "prefix_summary = personal_column_gt_summary_prefix\n",
    "\n",
    "try:\n",
    "    compute_efficiency_for_df(df=df_gt_step, prefix=prefix_step, new_column_name=f\"{prefix_step}_averaged_efficiency\")\n",
    "    print(\"Successfully computed efficiency of agents from df_gt_step.\")\n",
    "except Exception as e:\n",
    "    print(f\"Could not compute efficiency of agents from df_gt_step: {e}\")\n",
    "\n",
    "try:\n",
    "    compute_efficiency_for_df(df=df_gt_summary, prefix=prefix_summary, new_column_name=f\"{prefix_summary}_averaged_efficiency\")\n",
    "    print(\"Successfully computed efficiency of agents from df_gt_summary.\")\n",
    "except Exception as e:\n",
    "    print(f\"Could not compute efficiency of agents from df_gt_summary: {e}\")\n",
    "\n",
    "# Will maybe need another formula for the 2D?\n",
    "\n",
    "try:\n",
    "    compute_efficiency_for_df(df=df_maze_step, prefix=prefix_step, new_column_name=f\"{prefix_step}_averaged_efficiency\")\n",
    "    print(\"Successfully computed efficiency of agents from df_maze_step.\")\n",
    "except Exception as e:\n",
    "    print(f\"Could not compute efficiency of agents from df_maze_step: {e}\")\n",
    "\n",
    "try:\n",
    "    compute_efficiency_for_df(df=df_maze_summary, prefix=prefix_summary, new_column_name=f\"{prefix_summary}_averaged_efficiency\")\n",
    "    print(\"Successfully computed efficiency of agents from df_maze_summary.\")\n",
    "except Exception as e:\n",
    "    print(f\"Could not compute efficiency of agents from df_maze_summary: {e}\")\n"
   ]
  },
  {
   "cell_type": "markdown",
   "id": "3347ba7a",
   "metadata": {},
   "source": [
    "## Learning verification"
   ]
  },
  {
   "cell_type": "code",
   "execution_count": 19,
   "id": "86ac3de0",
   "metadata": {},
   "outputs": [
    {
     "name": "stdout",
     "output_type": "stream",
     "text": [
      "\n",
      "--- Processing Group: emotion=average, see_emotions=True, alpha=0.5, beta=0.5, smoothing=linear, threshold=0.5, rounder=2, learning_rate=0.001, gamma=0.99, epsilon=1.0, epsilon_decay=0.995, epsilon_min=0.01, batch_size=16, hidden_size=64, update_target_every=5 ---\n"
     ]
    },
    {
     "data": {
      "image/png": "[encoded data removed]",
      "text/plain": [
       "<Figure size 1000x500 with 1 Axes>"
      ]
     },
     "metadata": {},
     "output_type": "display_data"
    }
   ],
   "source": [
    "core_params = [\n",
    "    'emotion', 'see_emotions', 'alpha', 'beta', 'smoothing', 'threshold', 'rounder',\n",
    "    'learning_rate', 'gamma', 'epsilon', 'epsilon_decay', 'epsilon_min',\n",
    "    'batch_size', 'hidden_size', 'update_target_every'\n",
    "]\n",
    "\n",
    "df = df_gt_summary  # Choice of the summary dataframe to test : \n",
    "\n",
    "for param_values, group in df.groupby(core_params): #\n",
    "    label = ', '.join(f\"{k}={v}\" for k, v in zip(core_params, param_values))\n",
    "    print(f\"\\n--- Processing Group: {label} ---\")\n",
    "\n",
    "    windowed_df = windowed_avg_combined_reward(\n",
    "        df=group,\n",
    "        reward_prefix=\"total_combined_reward\",\n",
    "        episode_column=\"episode\",\n",
    "        simulation_id_column=\"simulation_index\", \n",
    "        window_size=1,\n",
    "        aggregation_mode=\"mean\", # can be best or mean\n",
    "        plot=True\n",
    "    )"
   ]
  },
  {
   "cell_type": "markdown",
   "id": "e53efc1c",
   "metadata": {},
   "source": [
    "## Data Vizualization"
   ]
  },
  {
   "cell_type": "code",
   "execution_count": 21,
   "id": "2a7f040d",
   "metadata": {},
   "outputs": [
    {
     "data": {
      "image/png": "[encoded data removed]",
      "text/plain": [
       "<Figure size 1000x600 with 1 Axes>"
      ]
     },
     "metadata": {},
     "output_type": "display_data"
    }
   ],
   "source": [
    "df = df_gt_summary\n",
    "fluctuating_variable = 'resource_remaining'\n",
    "period_type = 'episode'\n",
    "\n",
    "# not to change\n",
    "is_step_csv = (period_type == 'step')\n",
    "\n",
    "# Potentially improve for larger episode number\n",
    "plot_mean_and_range_across_simulations(\n",
    "    df=df, \n",
    "    value_col=fluctuating_variable, \n",
    "    is_step_csv=is_step_csv, \n",
    "    title=f'fluctuation of {fluctuating_variable} over {period_type}'\n",
    ")\n"
   ]
  },
  {
   "cell_type": "code",
   "execution_count": 22,
   "id": "0ac97253",
   "metadata": {},
   "outputs": [
    {
     "data": {
      "image/png": "[encoded data removed]",
      "text/plain": [
       "<Figure size 1000x600 with 1 Axes>"
      ]
     },
     "metadata": {},
     "output_type": "display_data"
    }
   ],
   "source": [
    "# Plot density function of the proportion of depletion\n",
    "# Potentially improve for larger episode number\n",
    "plot_avg_steps_to_depletion(df_gt_summary, steps_col='total_steps')"
   ]
  },
  {
   "cell_type": "markdown",
   "id": "2e463fc1",
   "metadata": {},
   "source": [
    "## Data Analysis"
   ]
  },
  {
   "cell_type": "code",
   "execution_count": 23,
   "id": "133a4957",
   "metadata": {},
   "outputs": [],
   "source": [
    "# Stats : t-test to compare the empathic comparisons"
   ]
  },
  {
   "cell_type": "markdown",
   "id": "c8fbdfed",
   "metadata": {},
   "source": [
    "# Summary"
   ]
  }
 ],
 "metadata": {
  "kernelspec": {
   "display_name": "base",
   "language": "python",
   "name": "python3"
  },
  "language_info": {
   "codemirror_mode": {
    "name": "ipython",
    "version": 3
   },
   "file_extension": ".py",
   "mimetype": "text/x-python",
   "name": "python",
   "nbconvert_exporter": "python",
   "pygments_lexer": "ipython3",
   "version": "3.12.7"
  }
 },
 "nbformat": 4,
 "nbformat_minor": 5
}
