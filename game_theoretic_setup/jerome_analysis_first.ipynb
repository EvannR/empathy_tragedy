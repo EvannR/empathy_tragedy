{
 "cells": [
  {
   "cell_type": "markdown",
   "id": "07f5d9d8",
   "metadata": {},
   "source": [
    "# Imports"
   ]
  },
  {
   "cell_type": "code",
   "execution_count": 1,
   "id": "2f8ffec9",
   "metadata": {},
   "outputs": [],
   "source": [
    "import numpy as np\n",
    "import pandas as pd\n",
    "import os\n",
    "import re"
   ]
  },
  {
   "cell_type": "markdown",
   "id": "6eda237a",
   "metadata": {},
   "source": [
    "# General variables"
   ]
  },
  {
   "cell_type": "code",
   "execution_count": null,
   "id": "d883acbe",
   "metadata": {},
   "outputs": [],
   "source": [
    "# Define the pattern of filenames\n",
    "\n",
    "Grid_filename_order_QL = {}\n",
    "Grid_filename_order_DNQ = {}\n",
    "\n",
    "\n",
    "GameTheoretic_filename_order_QL = {\"episode_number\":None,\n",
    "                                   \"agent_type\":None,\n",
    "                                   \"emotion_type\":None,\n",
    "\n",
    "\n",
    "}\n",
    "GameTheoretic_filename_order_DQN = {}"
   ]
  },
  {
   "cell_type": "markdown",
   "id": "85b822f5",
   "metadata": {},
   "source": [
    "# Functions"
   ]
  },
  {
   "cell_type": "markdown",
   "id": "23d4083a",
   "metadata": {},
   "source": [
    "## CSV processing"
   ]
  },
  {
   "cell_type": "code",
   "execution_count": null,
   "id": "2748031c",
   "metadata": {},
   "outputs": [
    {
     "ename": "SyntaxError",
     "evalue": "invalid syntax. Maybe you meant '==' or ':=' instead of '='? (1944692549.py, line 5)",
     "output_type": "error",
     "traceback": [
      "\u001b[1;36m  Cell \u001b[1;32mIn[3], line 5\u001b[1;36m\u001b[0m\n\u001b[1;33m    if env = \"grid\":\u001b[0m\n\u001b[1;37m       ^\u001b[0m\n\u001b[1;31mSyntaxError\u001b[0m\u001b[1;31m:\u001b[0m invalid syntax. Maybe you meant '==' or ':=' instead of '='?\n"
     ]
    }
   ],
   "source": [
    "# Filename_reader\n",
    "def filename_parameter_reader(filename):\n",
    "    # read filename\n",
    "    pattern = re.match('')\n",
    "\n",
    "    if env = \"grid\":\n",
    "        if agent = \"DQN\":\n",
    "\n",
    "        elif agent = \"QL\":\n",
    "\n",
    "    elif env = \"GameTheoretic\":\n",
    "        if agent = \"DQN\":\n",
    "\n",
    "        elif agent = \"QL\":\n",
    "\n",
    "\n",
    "    return filename_component_list"
   ]
  },
  {
   "cell_type": "code",
   "execution_count": null,
   "id": "ffa3efd9",
   "metadata": {},
   "outputs": [],
   "source": [
    "#aggregation of step csv\n",
    "def data_aggregation_step(folder):\n",
    "\n",
    "\n",
    "    return data_step_df\n",
    "\n",
    "\n",
    "def data_aggregation_episode(folder):\n",
    "\n",
    "    return data_episode_df"
   ]
  },
  {
   "cell_type": "markdown",
   "id": "f16bd09d",
   "metadata": {},
   "source": [
    "## Data processing"
   ]
  },
  {
   "cell_type": "markdown",
   "id": "f96180ba",
   "metadata": {},
   "source": [
    "### Variable_calculation"
   ]
  },
  {
   "cell_type": "markdown",
   "id": "cde5adea",
   "metadata": {},
   "source": [
    "### Visualization"
   ]
  },
  {
   "cell_type": "markdown",
   "id": "7736e701",
   "metadata": {},
   "source": [
    "### Stat tests"
   ]
  },
  {
   "cell_type": "markdown",
   "id": "c9c751bb",
   "metadata": {},
   "source": [
    "# Processing of DATA"
   ]
  },
  {
   "cell_type": "markdown",
   "id": "7b353f5a",
   "metadata": {},
   "source": [
    "## Files to DataFrame"
   ]
  },
  {
   "cell_type": "markdown",
   "id": "32aea3e3",
   "metadata": {},
   "source": [
    "## Calculation of Dependent Variables"
   ]
  },
  {
   "cell_type": "markdown",
   "id": "e53efc1c",
   "metadata": {},
   "source": [
    "## Data Vizualization"
   ]
  },
  {
   "cell_type": "markdown",
   "id": "2e463fc1",
   "metadata": {},
   "source": [
    "## Data Analysis"
   ]
  },
  {
   "cell_type": "markdown",
   "id": "c8fbdfed",
   "metadata": {},
   "source": [
    "# Interpretation"
   ]
  }
 ],
 "metadata": {
  "kernelspec": {
   "display_name": "base",
   "language": "python",
   "name": "python3"
  },
  "language_info": {
   "codemirror_mode": {
    "name": "ipython",
    "version": 3
   },
   "file_extension": ".py",
   "mimetype": "text/x-python",
   "name": "python",
   "nbconvert_exporter": "python",
   "pygments_lexer": "ipython3",
   "version": "3.12.7"
  }
 },
 "nbformat": 4,
 "nbformat_minor": 5
}
